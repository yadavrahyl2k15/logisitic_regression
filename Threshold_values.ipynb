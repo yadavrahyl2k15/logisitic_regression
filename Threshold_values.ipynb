{
  "nbformat": 4,
  "nbformat_minor": 0,
  "metadata": {
    "colab": {
      "name": "Threshold_values",
      "provenance": [],
      "authorship_tag": "ABX9TyPk2mxWD6CqYgor99ihxSgY",
      "include_colab_link": true
    },
    "kernelspec": {
      "name": "python3",
      "display_name": "Python 3"
    }
  },
  "cells": [
    {
      "cell_type": "markdown",
      "metadata": {
        "id": "view-in-github",
        "colab_type": "text"
      },
      "source": [
        "<a href=\"https://colab.research.google.com/github/yadavrahyl2k15/threshold_values/blob/main/Threshold_values.ipynb\" target=\"_parent\"><img src=\"https://colab.research.google.com/assets/colab-badge.svg\" alt=\"Open In Colab\"/></a>"
      ]
    },
    {
      "cell_type": "code",
      "metadata": {
        "id": "8rQi4eXE_Fh4"
      },
      "source": [
        "import pandas as pd\n",
        "import numpy as np\n",
        "import matplotlib.pyplot as plt\n",
        "%matplotlib inline\n",
        "import seaborn as sns"
      ],
      "execution_count": null,
      "outputs": []
    },
    {
      "cell_type": "code",
      "metadata": {
        "id": "0WVm_rQF_XlL"
      },
      "source": [
        "#to create a dataset we use following module\n",
        "from sklearn.datasets import make_classification"
      ],
      "execution_count": null,
      "outputs": []
    },
    {
      "cell_type": "code",
      "metadata": {
        "colab": {
          "base_uri": "https://localhost:8080/"
        },
        "id": "f44-VfYY_8kn",
        "outputId": "4f698ec6-1ac1-4c2e-d54e-070185ba9609"
      },
      "source": [
        "x,y=make_classification(n_samples=2000,n_classes=2,weights=[1,1],random_state=1)\n",
        "print(x.shape)\n",
        "print(y.shape)"
      ],
      "execution_count": null,
      "outputs": [
        {
          "output_type": "stream",
          "text": [
            "(2000, 20)\n",
            "(2000,)\n"
          ],
          "name": "stdout"
        }
      ]
    },
    {
      "cell_type": "code",
      "metadata": {
        "id": "g7h3bX6g_nuY"
      },
      "source": [
        "from sklearn.model_selection import train_test_split\n",
        "x_train,x_test,y_train,y_test=train_test_split(x,y,test_size=0.3,random_state=1)"
      ],
      "execution_count": null,
      "outputs": []
    },
    {
      "cell_type": "code",
      "metadata": {
        "id": "F7aQU8mLCEIi"
      },
      "source": [
        "from sklearn.metrics import roc_curve\n",
        "from sklearn.metrics import roc_auc_score"
      ],
      "execution_count": null,
      "outputs": []
    },
    {
      "cell_type": "markdown",
      "metadata": {
        "id": "sWMJX2QJAZA8"
      },
      "source": [
        "**RANDOM FOREST**"
      ]
    },
    {
      "cell_type": "code",
      "metadata": {
        "colab": {
          "base_uri": "https://localhost:8080/"
        },
        "id": "MEsTcwruAXfO",
        "outputId": "4b4f2c2c-3f71-41a0-adb6-8fe3fca7233a"
      },
      "source": [
        "from sklearn.ensemble import RandomForestClassifier\n",
        "rf_model=RandomForestClassifier()\n",
        "rf_model.fit(x_train,y_train)\n",
        "y_train_pred=rf_model.predict_proba(x_train)\n",
        "print(\"RF TRAIN roc-auc : {} \".format(roc_auc_score(y_train,y_train_pred[:,1])))\n",
        "y_test_pred=rf_model.predict_proba(x_test)\n",
        "print(\"RF TEST roc-auc : {} \".format(roc_auc_score(y_test,y_test_pred[:,1])))"
      ],
      "execution_count": null,
      "outputs": [
        {
          "output_type": "stream",
          "text": [
            "RF TRAIN roc-auc : 1.0 \n",
            "RF TEST roc-auc : 0.9842 \n"
          ],
          "name": "stdout"
        }
      ]
    },
    {
      "cell_type": "markdown",
      "metadata": {
        "id": "DLwUQDizCPgT"
      },
      "source": [
        "**LOGISTIC REGRESSION**"
      ]
    },
    {
      "cell_type": "code",
      "metadata": {
        "colab": {
          "base_uri": "https://localhost:8080/"
        },
        "id": "2Vi5zTPyCAa4",
        "outputId": "5fa8b4ae-ac93-42b8-87f6-98b330428e59"
      },
      "source": [
        "from sklearn.linear_model import LogisticRegression\n",
        "log_classifier=LogisticRegression()\n",
        "log_classifier.fit(x_train,y_train)\n",
        "y_train_pred=log_classifier.predict_proba(x_train)\n",
        "print(\"LR TRAIN roc-auc : {}\".format(roc_auc_score(y_train,y_train_pred[:,1])))\n",
        "y_test_pred=log_classifier.predict_proba(x_test)\n",
        "print(\"LR TEST roc-auc : {}\".format(roc_auc_score(y_test,y_test_pred[:,1])))"
      ],
      "execution_count": null,
      "outputs": [
        {
          "output_type": "stream",
          "text": [
            "LR TRAIN roc-auc : 0.9863568922694498\n",
            "LR TEST roc-auc : 0.9885777777777777\n"
          ],
          "name": "stdout"
        }
      ]
    },
    {
      "cell_type": "markdown",
      "metadata": {
        "id": "m98fCAeBDcZI"
      },
      "source": [
        "**ADABOOST CLASSIFIER**"
      ]
    },
    {
      "cell_type": "code",
      "metadata": {
        "colab": {
          "base_uri": "https://localhost:8080/"
        },
        "id": "psvq_ajHDaup",
        "outputId": "964ee2be-a9f0-49ce-f2e7-438ea6cf9ff1"
      },
      "source": [
        "from sklearn.ensemble import AdaBoostClassifier\n",
        "ada=AdaBoostClassifier()\n",
        "ada.fit(x_train,y_train)\n",
        "y_train_pred=ada.predict_proba(x_train)\n",
        "print(\"ADA TRAIN roc-auc : {}\".format(roc_auc_score(y_train,y_train_pred[:,1])))\n",
        "y_test_pred=ada.predict_proba(x_test)\n",
        "print(\"ADA TEST roc-auc : {}\".format(roc_auc_score(y_test,y_test_pred[:,1])))"
      ],
      "execution_count": null,
      "outputs": [
        {
          "output_type": "stream",
          "text": [
            "ADA TRAIN roc-auc : 0.9975081174960356\n",
            "ADA TEST roc-auc : 0.9826111111111111\n"
          ],
          "name": "stdout"
        }
      ]
    },
    {
      "cell_type": "markdown",
      "metadata": {
        "id": "2sHi4iFfEcTm"
      },
      "source": [
        "**KNN CLASSIFIER**"
      ]
    },
    {
      "cell_type": "code",
      "metadata": {
        "colab": {
          "base_uri": "https://localhost:8080/"
        },
        "id": "2otipjvgEZlY",
        "outputId": "2643bba6-053a-473f-eb2c-a2371e49b806"
      },
      "source": [
        "from sklearn.neighbors import KNeighborsClassifier\n",
        "knn=KNeighborsClassifier()\n",
        "knn.fit(x_train,y_train)\n",
        "y_train_pred=knn.predict_proba(x_train)\n",
        "print(\"KNN TRAIN roc-auc : {}\".format(roc_auc_score(y_train,y_train_pred[:,1])))\n",
        "y_test_pred=knn.predict_proba(x_test)\n",
        "print(\"KNN TEST roc-auc : {} \".format(roc_auc_score(y_test,y_test_pred[:,1])))"
      ],
      "execution_count": null,
      "outputs": [
        {
          "output_type": "stream",
          "text": [
            "KNN TRAIN roc-auc : 0.981670071491109\n",
            "KNN TEST roc-auc : 0.9426111111111111 \n"
          ],
          "name": "stdout"
        }
      ]
    },
    {
      "cell_type": "code",
      "metadata": {
        "colab": {
          "base_uri": "https://localhost:8080/"
        },
        "id": "IFwp4IMTFbJx",
        "outputId": "7c57d120-18dd-4852-e287-606475562d3b"
      },
      "source": [
        "#choose best prediction out of 4 models\n",
        "pred=[]\n",
        "\n",
        "for model in [rf_model,log_classifier,ada,knn]:\n",
        "  pred.append(pd.Series(model.predict_proba(x_test)[:,1]))\n",
        "final_predict=pd.concat(pred,axis=1).mean(axis=1)\n",
        "print(\"Ensemble test roc-auc : {} \".format(roc_auc_score(y_test,final_predict)))"
      ],
      "execution_count": null,
      "outputs": [
        {
          "output_type": "stream",
          "text": [
            "Ensemble test roc-auc : 0.9853222222222223 \n"
          ],
          "name": "stdout"
        }
      ]
    },
    {
      "cell_type": "code",
      "metadata": {
        "colab": {
          "base_uri": "https://localhost:8080/",
          "height": 419
        },
        "id": "FIScNB5KGxJG",
        "outputId": "80ee906e-d3ed-433e-94de-8bb3af43a4c6"
      },
      "source": [
        "pd.concat(pred,axis=1)"
      ],
      "execution_count": null,
      "outputs": [
        {
          "output_type": "execute_result",
          "data": {
            "text/html": [
              "<div>\n",
              "<style scoped>\n",
              "    .dataframe tbody tr th:only-of-type {\n",
              "        vertical-align: middle;\n",
              "    }\n",
              "\n",
              "    .dataframe tbody tr th {\n",
              "        vertical-align: top;\n",
              "    }\n",
              "\n",
              "    .dataframe thead th {\n",
              "        text-align: right;\n",
              "    }\n",
              "</style>\n",
              "<table border=\"1\" class=\"dataframe\">\n",
              "  <thead>\n",
              "    <tr style=\"text-align: right;\">\n",
              "      <th></th>\n",
              "      <th>0</th>\n",
              "      <th>1</th>\n",
              "      <th>2</th>\n",
              "      <th>3</th>\n",
              "    </tr>\n",
              "  </thead>\n",
              "  <tbody>\n",
              "    <tr>\n",
              "      <th>0</th>\n",
              "      <td>0.97</td>\n",
              "      <td>0.991861</td>\n",
              "      <td>0.559186</td>\n",
              "      <td>1.0</td>\n",
              "    </tr>\n",
              "    <tr>\n",
              "      <th>1</th>\n",
              "      <td>0.00</td>\n",
              "      <td>0.000008</td>\n",
              "      <td>0.463282</td>\n",
              "      <td>0.0</td>\n",
              "    </tr>\n",
              "    <tr>\n",
              "      <th>2</th>\n",
              "      <td>0.96</td>\n",
              "      <td>0.966929</td>\n",
              "      <td>0.538202</td>\n",
              "      <td>0.8</td>\n",
              "    </tr>\n",
              "    <tr>\n",
              "      <th>3</th>\n",
              "      <td>0.86</td>\n",
              "      <td>0.761539</td>\n",
              "      <td>0.509875</td>\n",
              "      <td>0.8</td>\n",
              "    </tr>\n",
              "    <tr>\n",
              "      <th>4</th>\n",
              "      <td>0.58</td>\n",
              "      <td>0.779443</td>\n",
              "      <td>0.490344</td>\n",
              "      <td>0.4</td>\n",
              "    </tr>\n",
              "    <tr>\n",
              "      <th>...</th>\n",
              "      <td>...</td>\n",
              "      <td>...</td>\n",
              "      <td>...</td>\n",
              "      <td>...</td>\n",
              "    </tr>\n",
              "    <tr>\n",
              "      <th>595</th>\n",
              "      <td>0.00</td>\n",
              "      <td>0.024239</td>\n",
              "      <td>0.461121</td>\n",
              "      <td>0.0</td>\n",
              "    </tr>\n",
              "    <tr>\n",
              "      <th>596</th>\n",
              "      <td>0.03</td>\n",
              "      <td>0.000003</td>\n",
              "      <td>0.441377</td>\n",
              "      <td>0.0</td>\n",
              "    </tr>\n",
              "    <tr>\n",
              "      <th>597</th>\n",
              "      <td>1.00</td>\n",
              "      <td>0.984385</td>\n",
              "      <td>0.532403</td>\n",
              "      <td>1.0</td>\n",
              "    </tr>\n",
              "    <tr>\n",
              "      <th>598</th>\n",
              "      <td>0.01</td>\n",
              "      <td>0.001147</td>\n",
              "      <td>0.441720</td>\n",
              "      <td>0.2</td>\n",
              "    </tr>\n",
              "    <tr>\n",
              "      <th>599</th>\n",
              "      <td>0.97</td>\n",
              "      <td>0.989540</td>\n",
              "      <td>0.559890</td>\n",
              "      <td>0.8</td>\n",
              "    </tr>\n",
              "  </tbody>\n",
              "</table>\n",
              "<p>600 rows × 4 columns</p>\n",
              "</div>"
            ],
            "text/plain": [
              "        0         1         2    3\n",
              "0    0.97  0.991861  0.559186  1.0\n",
              "1    0.00  0.000008  0.463282  0.0\n",
              "2    0.96  0.966929  0.538202  0.8\n",
              "3    0.86  0.761539  0.509875  0.8\n",
              "4    0.58  0.779443  0.490344  0.4\n",
              "..    ...       ...       ...  ...\n",
              "595  0.00  0.024239  0.461121  0.0\n",
              "596  0.03  0.000003  0.441377  0.0\n",
              "597  1.00  0.984385  0.532403  1.0\n",
              "598  0.01  0.001147  0.441720  0.2\n",
              "599  0.97  0.989540  0.559890  0.8\n",
              "\n",
              "[600 rows x 4 columns]"
            ]
          },
          "metadata": {
            "tags": []
          },
          "execution_count": 14
        }
      ]
    },
    {
      "cell_type": "code",
      "metadata": {
        "colab": {
          "base_uri": "https://localhost:8080/"
        },
        "id": "CdxW3n6nG3K-",
        "outputId": "fb2fa998-f41a-474e-f61e-b365c0faa532"
      },
      "source": [
        "final_predict"
      ],
      "execution_count": null,
      "outputs": [
        {
          "output_type": "execute_result",
          "data": {
            "text/plain": [
              "0      0.880262\n",
              "1      0.115823\n",
              "2      0.816283\n",
              "3      0.732853\n",
              "4      0.562447\n",
              "         ...   \n",
              "595    0.121340\n",
              "596    0.117845\n",
              "597    0.879197\n",
              "598    0.163217\n",
              "599    0.829857\n",
              "Length: 600, dtype: float64"
            ]
          },
          "metadata": {
            "tags": []
          },
          "execution_count": 15
        }
      ]
    },
    {
      "cell_type": "code",
      "metadata": {
        "colab": {
          "base_uri": "https://localhost:8080/"
        },
        "id": "K8X580DJG5-F",
        "outputId": "1077851e-a5bb-4a95-82e8-2735c4e64030"
      },
      "source": [
        "#CALCULATE ROC \n",
        "fpr,tpr,thresholds=roc_curve(y_test,final_predict)\n",
        "thresholds"
      ],
      "execution_count": null,
      "outputs": [
        {
          "output_type": "execute_result",
          "data": {
            "text/plain": [
              "array([1.91424686, 0.91424686, 0.90623256, 0.90577475, 0.79311406,\n",
              "       0.79162833, 0.7905287 , 0.7880558 , 0.77909273, 0.77821156,\n",
              "       0.7508411 , 0.75037124, 0.72208108, 0.72137362, 0.70749037,\n",
              "       0.70143711, 0.67692282, 0.67493537, 0.60245356, 0.59800386,\n",
              "       0.59212652, 0.58614346, 0.57399047, 0.56736186, 0.55292732,\n",
              "       0.54377948, 0.53605932, 0.52969563, 0.52615858, 0.50366892,\n",
              "       0.45450602, 0.40936151, 0.4071034 , 0.38920009, 0.38879719,\n",
              "       0.35433098, 0.34836612, 0.23448424, 0.23390421, 0.2296341 ,\n",
              "       0.22896893, 0.20483682, 0.20098417, 0.12552718, 0.1253351 ,\n",
              "       0.10841316])"
            ]
          },
          "metadata": {
            "tags": []
          },
          "execution_count": 16
        }
      ]
    },
    {
      "cell_type": "code",
      "metadata": {
        "id": "3lXFNWGbGWhR"
      },
      "source": [
        "from sklearn.metrics import accuracy_score\n",
        "\n",
        "accuracy_1=[]\n",
        "for i in thresholds:\n",
        "  y_pred=np.where(final_predict>i,1,0)\n",
        "  accuracy_1.append(accuracy_score(y_test,y_pred,normalize=True))\n"
      ],
      "execution_count": null,
      "outputs": []
    },
    {
      "cell_type": "code",
      "metadata": {
        "colab": {
          "base_uri": "https://localhost:8080/",
          "height": 204
        },
        "id": "9rJFrwG6Ho2E",
        "outputId": "90552d60-b7ae-449d-d9d5-b70969d2533a"
      },
      "source": [
        "accuracy_1=pd.concat([pd.Series(thresholds),pd.Series(accuracy_1)],axis=1)\n",
        "accuracy_1.columns=['THRESHOLDS','ACCURACY']\n",
        "accuracy_1.sort_values(by='ACCURACY',ascending=False,inplace=True)\n",
        "accuracy_1.head()"
      ],
      "execution_count": null,
      "outputs": [
        {
          "output_type": "execute_result",
          "data": {
            "text/html": [
              "<div>\n",
              "<style scoped>\n",
              "    .dataframe tbody tr th:only-of-type {\n",
              "        vertical-align: middle;\n",
              "    }\n",
              "\n",
              "    .dataframe tbody tr th {\n",
              "        vertical-align: top;\n",
              "    }\n",
              "\n",
              "    .dataframe thead th {\n",
              "        text-align: right;\n",
              "    }\n",
              "</style>\n",
              "<table border=\"1\" class=\"dataframe\">\n",
              "  <thead>\n",
              "    <tr style=\"text-align: right;\">\n",
              "      <th></th>\n",
              "      <th>THRESHOLDS</th>\n",
              "      <th>ACCURACY</th>\n",
              "    </tr>\n",
              "  </thead>\n",
              "  <tbody>\n",
              "    <tr>\n",
              "      <th>30</th>\n",
              "      <td>0.454506</td>\n",
              "      <td>0.960000</td>\n",
              "    </tr>\n",
              "    <tr>\n",
              "      <th>29</th>\n",
              "      <td>0.503669</td>\n",
              "      <td>0.958333</td>\n",
              "    </tr>\n",
              "    <tr>\n",
              "      <th>27</th>\n",
              "      <td>0.529696</td>\n",
              "      <td>0.958333</td>\n",
              "    </tr>\n",
              "    <tr>\n",
              "      <th>25</th>\n",
              "      <td>0.543779</td>\n",
              "      <td>0.958333</td>\n",
              "    </tr>\n",
              "    <tr>\n",
              "      <th>28</th>\n",
              "      <td>0.526159</td>\n",
              "      <td>0.956667</td>\n",
              "    </tr>\n",
              "  </tbody>\n",
              "</table>\n",
              "</div>"
            ],
            "text/plain": [
              "    THRESHOLDS  ACCURACY\n",
              "30    0.454506  0.960000\n",
              "29    0.503669  0.958333\n",
              "27    0.529696  0.958333\n",
              "25    0.543779  0.958333\n",
              "28    0.526159  0.956667"
            ]
          },
          "metadata": {
            "tags": []
          },
          "execution_count": 19
        }
      ]
    },
    {
      "cell_type": "code",
      "metadata": {
        "id": "ximKwBrfIQxP"
      },
      "source": [
        "def plot_roc_curve(fpr,tpr):\n",
        "  plt.plot(fpr,tpr,color='red',Label='ROC')\n",
        "  plt.plot([0,1],[0,1],color='darkblue',Linestyle='--')\n",
        "  plt.xlabel(\"FALSE POSITIVE RATE\")\n",
        "  plt.ylabel(\"TRUE POSITIVE RATE\")\n",
        "  plt.title('RECEIVER OPERATING CHARACTERISTIC[ROC] CURVE')\n",
        "  plt.legend()\n",
        "  plt.show()"
      ],
      "execution_count": null,
      "outputs": []
    },
    {
      "cell_type": "code",
      "metadata": {
        "colab": {
          "base_uri": "https://localhost:8080/",
          "height": 295
        },
        "id": "adscL1ZaJXEu",
        "outputId": "0a5cdf8b-9f65-41fa-e4c8-253bd7f0e032"
      },
      "source": [
        "plot_roc_curve(fpr,tpr)"
      ],
      "execution_count": null,
      "outputs": [
        {
          "output_type": "display_data",
          "data": {
            "image/png": "[encoded data removed]",
            "text/plain": [
              "<Figure size 432x288 with 1 Axes>"
            ]
          },
          "metadata": {
            "tags": [],
            "needs_background": "light"
          }
        }
      ]
    },
    {
      "cell_type": "code",
      "metadata": {
        "id": "hah7YRAxJeE7"
      },
      "source": [
        ""
      ],
      "execution_count": null,
      "outputs": []
    }
  ]
}